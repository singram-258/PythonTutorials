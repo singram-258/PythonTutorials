{
 "cells": [
  {
   "cell_type": "markdown",
   "id": "1e6ca3f6",
   "metadata": {},
   "source": [
    "# Seaborn overview"
   ]
  },
  {
   "cell_type": "markdown",
   "id": "7ef367e1",
   "metadata": {},
   "source": [
    "As we have seen `matplotlib` is powerful and flexible, but that power and flexibility means that there is also a lot to learn! \n",
    "\n",
    "In addition, `matplotlib` predated `seaborn` by around 10 years; it was designed to make plots from `numpy` arrays. "
   ]
  },
  {
   "cell_type": "markdown",
   "id": "a3603631",
   "metadata": {},
   "source": [
    "A great solution is `seaborn`, which was specificly written to:\n",
    "\n",
    "* make plots from `pandas` data frames\n",
    "* create good looking plots \"out of the box\"\n",
    "\n",
    "The `seaborn` package (which we've already used some) is a \"high level\" plotting package that calls various `matplotlib` functions for you while taking care of many details for you under the hood. The various `seaborn` functions are conceptually structured like this:\n",
    "![seaborn_overview](./assets/jpnb20/seabornOverview.png)"
   ]
  },
  {
   "cell_type": "markdown",
   "id": "3f1ddfa5",
   "metadata": {},
   "source": [
    "The three columns correspond to plot types: plots of relationships, plots of data distributions, and plots of categorical data. \n",
    "\n",
    "For each plot type, there is a \"figure level\" function, `relplot()`, `displot()`, and `catplot()`. The main advantage of these is that they make it easy to create figures with multiple axes on them."
   ]
  },
  {
   "cell_type": "markdown",
   "id": "dc9c5840",
   "metadata": {},
   "source": [
    "In addition to the figure level functions, there are specific \"axes level\" functions for making each specific kind of plot directly. Each of these returns an `axes` object, which you can then modify if necessary just as you would had you created it with `plt.plot()`."
   ]
  },
  {
   "cell_type": "markdown",
   "id": "6eecb6aa",
   "metadata": {},
   "source": [
    "Let's play around with these using some data we've played with before."
   ]
  },
  {
   "cell_type": "markdown",
   "id": "3797e0ca",
   "metadata": {},
   "source": [
    "### Preliminaries"
   ]
  },
  {
   "cell_type": "markdown",
   "id": "ffe6c8da",
   "metadata": {},
   "source": [
    "First, let's import what we'll need:"
   ]
  },
  {
   "cell_type": "code",
   "execution_count": null,
   "id": "4fa6c370",
   "metadata": {},
   "outputs": [],
   "source": [
    "import pandas as pd\n",
    "import seaborn as sns\n",
    "\n",
    "# import your_module as ym or whatever if you want"
   ]
  },
  {
   "cell_type": "markdown",
   "id": "a9351200",
   "metadata": {},
   "source": [
    "If we don't have our module handy, we can copy our data loader and tidier function from before:"
   ]
  },
  {
   "cell_type": "code",
   "execution_count": null,
   "id": "287ad38d",
   "metadata": {},
   "outputs": [],
   "source": [
    "def tidyMyData(filename) :\n",
    "    '''\n",
    "    tidyMyData() Takes one-column-per-cell rat reaction time data as input.\n",
    "    Returns tidy one-column-per-variable data.\n",
    "    User specifies a filename string.\n",
    "    '''\n",
    "    \n",
    "    import pandas as pd\n",
    "    import numpy as np\n",
    "\n",
    "    my_input_data = pd.read_csv(filename)  # read the data\n",
    "\n",
    "    raw_data = my_input_data.to_numpy()                      # convert to numpy array\n",
    "\n",
    "    obs, grps = raw_data.shape                               # get the number of rows and columns\n",
    "\n",
    "    new_length = obs*grps                                    # compute total number of observations\n",
    "\n",
    "    values_col = np.reshape(raw_data, (new_length, 1), \n",
    "                            order = 'F')                     # reshape the array\n",
    "    values_col = np.squeeze(values_col)                      # squeeze to make 1D\n",
    "\n",
    "    # construct the inner grouping variable\n",
    "    sexes = pd.Series(['male', 'female'])                    # define the levels\n",
    "    sexes = sexes.repeat(obs)                                # make one cycle of the levels\n",
    "    sexes = pd.concat([sexes]*2, ignore_index=True)     # and repeat the cycle, ditching the indexes\n",
    "\n",
    "    # construct the outer grouping variable\n",
    "    strain = pd.Series(['wildtype', 'mutant'])               # define the levels\n",
    "    strain = strain.repeat(2*obs)                            # make the one cycle\n",
    "    strain = strain.reset_index(drop=True)                   # drop the pesky index\n",
    "\n",
    "    # construct the data frame\n",
    "    my_new_tidy_data = pd.DataFrame(\n",
    "        {\n",
    "            \"RTs\": values_col,                               # make a column named RTs and put the values in\n",
    "            \"sex\": sexes,                                    # ditto for sex\n",
    "            \"strain\": strain                                 # and for genetic strain\n",
    "        }    \n",
    "    )\n",
    "    \n",
    "    return my_new_tidy_data"
   ]
  },
  {
   "cell_type": "markdown",
   "id": "affcfab0",
   "metadata": {},
   "source": [
    "And now we can load and tidy our data with one simple call."
   ]
  },
  {
   "cell_type": "code",
   "execution_count": null,
   "id": "b4635eac",
   "metadata": {},
   "outputs": [],
   "source": [
    "our_data = tidyMyData(\"datasets/018DataFile2.csv\")"
   ]
  },
  {
   "cell_type": "markdown",
   "id": "b33ef38f",
   "metadata": {},
   "source": [
    "Let's remind ourselves of what the data look like."
   ]
  },
  {
   "cell_type": "code",
   "execution_count": null,
   "id": "e8958b0f",
   "metadata": {},
   "outputs": [],
   "source": [
    "our_data"
   ]
  },
  {
   "cell_type": "markdown",
   "id": "c83ad95d",
   "metadata": {},
   "source": [
    "## Figure level plots"
   ]
  },
  {
   "cell_type": "markdown",
   "id": "137b9026",
   "metadata": {},
   "source": [
    " We'll start with some figure level plots."
   ]
  },
  {
   "cell_type": "markdown",
   "id": "2c09ecee",
   "metadata": {},
   "source": [
    "### Distribution plots"
   ]
  },
  {
   "cell_type": "markdown",
   "id": "ff85ff73",
   "metadata": {},
   "source": [
    "#### Histogram of the RTs\n",
    "We'll start interrogating the data with a histogram of the lone numerical variable, the RTs"
   ]
  },
  {
   "cell_type": "code",
   "execution_count": null,
   "id": "a90daf40",
   "metadata": {},
   "outputs": [],
   "source": [
    "sns.displot(x = \"RTs\", data = our_data);"
   ]
  },
  {
   "cell_type": "markdown",
   "id": "7ba0dddd",
   "metadata": {},
   "source": [
    "Okay, here we can see that there are two clumps of data. Let's see if they correspond to one or more of the categorical variables."
   ]
  },
  {
   "cell_type": "markdown",
   "id": "fd53c80c",
   "metadata": {},
   "source": [
    "#### Histogram of RTs by one of the categorical variables\n",
    "We'll use color (\"hue\" in seaborn-speak) to code the categorical variable \"sex\"."
   ]
  },
  {
   "cell_type": "code",
   "execution_count": null,
   "id": "c0792db2",
   "metadata": {},
   "outputs": [],
   "source": [
    "sns.displot(x = \"RTs\", data = our_data, hue = \"sex\");"
   ]
  },
  {
   "cell_type": "markdown",
   "id": "25109188",
   "metadata": {},
   "source": [
    "Okay, there might be something going on with females being both faster (left) and slower (right) than males, but there's still something going on here that \"sex\" isn't capturing. Let's see if \"strain\" does."
   ]
  },
  {
   "cell_type": "markdown",
   "id": "4857ed13",
   "metadata": {},
   "source": [
    "#### Histogram of RTs by the other categorical variable\n",
    "Now we'll use color (\"hue\" in seaborn-speak) to code the categorical variable \"strain\"."
   ]
  },
  {
   "cell_type": "code",
   "execution_count": null,
   "id": "fd210b75",
   "metadata": {},
   "outputs": [],
   "source": [
    "sns.displot(x = \"RTs\", data = our_data, hue = \"strain\");"
   ]
  },
  {
   "cell_type": "markdown",
   "id": "788e3b1c",
   "metadata": {},
   "source": [
    "**Aha!** Gotcha – it looks like strain is doing a pretty good job of explaining the two clumps in the histogram. But the histogram of RT x Sex still did look a litte weird. Let's see if we can crack out both variables."
   ]
  },
  {
   "cell_type": "markdown",
   "id": "72b55ab2",
   "metadata": {},
   "source": [
    "#### Creating a multi-axes figure with a figure level seaborn function"
   ]
  },
  {
   "cell_type": "markdown",
   "id": "4b11ee39",
   "metadata": {},
   "source": [
    "This is where the figure level `seaborn` functions are really handy. We can simply assign a categorical variable to be represented by the columns or rows of a multi-panel figure.\n",
    "\n",
    "Let's assign \"sex\" to columns."
   ]
  },
  {
   "cell_type": "code",
   "execution_count": null,
   "id": "585e1585",
   "metadata": {},
   "outputs": [],
   "source": [
    "sns.displot(x = \"RTs\", data = our_data, hue = \"strain\", col=\"sex\");"
   ]
  },
  {
   "cell_type": "markdown",
   "id": "81ad8af4",
   "metadata": {},
   "source": [
    "Okay, that's great. Now we have males on the left and females on the right. Also, `displot()` has done something really nice, which is to make the x-axis limits the same in the two plots. So the bigger gap in the female data isn't just a visual artifact of the axis scaling.\n",
    "\n",
    "Still, since the data share a common x-axis, it would be nice to have the plots aligned vertically rather than horizontally. So let's assign sex to the rows rather than the columns."
   ]
  },
  {
   "cell_type": "code",
   "execution_count": null,
   "id": "41b46d15",
   "metadata": {},
   "outputs": [],
   "source": [
    "sns.displot(x = \"RTs\", data = our_data, hue = \"strain\", row=\"sex\");"
   ]
  },
  {
   "cell_type": "markdown",
   "id": "9a8e5841",
   "metadata": {},
   "source": [
    "Okay, that's much better in terms of making a visual comparison between the sexes. Still, these histrograms are a bit ugly. We could improve that by playing around with the bins. Or we could just ask `displot()` to give us kernel density estimates instead."
   ]
  },
  {
   "cell_type": "code",
   "execution_count": null,
   "id": "7f42c7cd",
   "metadata": {},
   "outputs": [],
   "source": [
    "sns.displot(x = \"RTs\", data = our_data, hue = \"strain\", row=\"sex\", kind=\"kde\");"
   ]
  },
  {
   "cell_type": "markdown",
   "id": "86d9aa2b",
   "metadata": {},
   "source": [
    "Much better. Visually, however, filled KDE's are a bit nicer. Since these are probability densities, it's the area that's important anyway, and having them filled emphasizes the area rather than the height."
   ]
  },
  {
   "cell_type": "markdown",
   "id": "51fca667",
   "metadata": {},
   "source": [
    "We can easily do this by setting a `fill` argument to `True`. Strictly speaking, however, `fill` is not a valid argument to `displot()`. However, what displot will do is pass any named argument (called a \"keywork arguement\" or \"kwarg\" in Python) to the underlying axes level function.\n",
    "\n",
    "The only catch with these `**kwargs` is that they won't appear in the documentation for the figure level plots, only in the documentation for the axes level plots. The documentation for the figure level [plot](https://seaborn.pydata.org/generated/seaborn.displot.html#seaborn.displot), like `displot()` does helpfully tell us this at least:\n",
    "\n",
    "---\n",
    "\n",
    "![displot() kwargs](./assets/jpnb20/displotKwargs.png)\n",
    "\n",
    "---"
   ]
  },
  {
   "cell_type": "markdown",
   "id": "e5307f22",
   "metadata": {},
   "source": [
    "So now let's plot with `fill=True` and see if that works."
   ]
  },
  {
   "cell_type": "code",
   "execution_count": null,
   "id": "6362cca2",
   "metadata": {},
   "outputs": [],
   "source": [
    "sns.displot(x = \"RTs\", data = our_data, hue = \"strain\", row=\"sex\", kind=\"kde\", fill=True);"
   ]
  },
  {
   "cell_type": "markdown",
   "id": "7d41cad8",
   "metadata": {},
   "source": [
    "Ah, much better!"
   ]
  },
  {
   "cell_type": "markdown",
   "id": "723dab1b",
   "metadata": {},
   "source": [
    "### Categorical plots"
   ]
  },
  {
   "cell_type": "markdown",
   "id": "9c51cb01",
   "metadata": {},
   "source": [
    "The categorical plots are nice because they allow us to separate both of our categorical variables within a single plot."
   ]
  },
  {
   "cell_type": "markdown",
   "id": "8ee45ee3",
   "metadata": {},
   "source": [
    "Let's try playing with `catplot()`"
   ]
  },
  {
   "cell_type": "code",
   "execution_count": null,
   "id": "3a6264f9",
   "metadata": {},
   "outputs": [],
   "source": [
    "sns.catplot(y = \"RTs\", x=\"strain\", data = our_data, hue = \"sex\");"
   ]
  },
  {
   "cell_type": "markdown",
   "id": "bbececa9",
   "metadata": {},
   "source": [
    "So a `stripplot` is the default axes-level plot (and notice that the default axes-level plots are the first ones listed under their corresponding figure-level counterparts. But we can have it call `boxplot()` for us by telling it that we want `kind=\"box\"`."
   ]
  },
  {
   "cell_type": "code",
   "execution_count": null,
   "id": "44c640bd",
   "metadata": {
    "scrolled": true
   },
   "outputs": [],
   "source": [
    "sns.catplot(y = \"RTs\", x=\"strain\", data = our_data, hue = \"sex\", kind=\"violin\");"
   ]
  },
  {
   "cell_type": "markdown",
   "id": "0b7d7e61",
   "metadata": {},
   "source": [
    "### Axis level plots"
   ]
  },
  {
   "cell_type": "markdown",
   "id": "661e427b",
   "metadata": {},
   "source": [
    "We can call any of the axis-level functions directly, without going through the corresponding figure-level function. This gives us more control over single-panel plots should we need it."
   ]
  },
  {
   "cell_type": "code",
   "execution_count": null,
   "id": "da96d094",
   "metadata": {},
   "outputs": [],
   "source": [
    "ax = sns.boxplot(y = \"RTs\", x=\"strain\", data = our_data, hue = \"sex\");"
   ]
  },
  {
   "cell_type": "markdown",
   "id": "454e57d5",
   "metadata": {},
   "source": [
    "Notice that we've assigned the output of `sns.boxplot()` to `ax`. So we have an `axes` object (named `ax`), and thus have access to all the things an `axes` knows how to do. So if we type \"ax.\" and a tab, we'll see something like this:\n",
    "    \n",
    "---\n",
    "    \n",
    "![seaborn_overview](./assets/jpnb20/axesMethods.png)\n",
    "    \n",
    "---"
   ]
  },
  {
   "cell_type": "markdown",
   "id": "881cd01e",
   "metadata": {},
   "source": [
    "So let's do that:"
   ]
  },
  {
   "cell_type": "code",
   "execution_count": null,
   "id": "7eea0f46",
   "metadata": {},
   "outputs": [],
   "source": [
    "ax."
   ]
  },
  {
   "cell_type": "markdown",
   "id": "c612ac84",
   "metadata": {},
   "source": [
    "and now we can scroll around to find useful things. "
   ]
  },
  {
   "cell_type": "markdown",
   "id": "00906779",
   "metadata": {},
   "source": [
    "Let's try inverting the y axis so that faster times plot visually higher!"
   ]
  },
  {
   "cell_type": "code",
   "execution_count": null,
   "id": "239e7af7",
   "metadata": {},
   "outputs": [],
   "source": [
    "ax = sns.boxplot(y = \"RTs\", x=\"strain\", data = our_data, hue = \"sex\");\n",
    "ax.invert_yaxis();"
   ]
  },
  {
   "cell_type": "markdown",
   "id": "038ae729",
   "metadata": {},
   "source": [
    "And we can see a lot of useful stuff by typing `ax.set` and a tab. Among those is `ax.set_title` which we can use to... wait for it... add a title!"
   ]
  },
  {
   "cell_type": "code",
   "execution_count": null,
   "id": "768f6c86",
   "metadata": {},
   "outputs": [],
   "source": [
    "ax = sns.boxplot(y = \"RTs\", x=\"strain\", data = our_data, hue = \"sex\");\n",
    "ax.invert_yaxis();\n",
    "ax.set_title(\"Response time by sex and strain - higher is faster\");"
   ]
  },
  {
   "cell_type": "markdown",
   "id": "5904e596",
   "metadata": {},
   "source": [
    "### Summary\n",
    "So `seaborn` is a nice way to make plots of data from `pandas` data frames. Its default values make good looking plots. It has two main kinds of plotting functions:\n",
    "\n",
    "* figure level functions that are handy for making multi axes panel figures\n",
    "* axes level functions that return an axes object handle to you, allowing for fine control over the plot's appearance\n",
    "\n"
   ]
  },
  {
   "cell_type": "markdown",
   "id": "115fb8a8",
   "metadata": {},
   "source": [
    "---"
   ]
  },
  {
   "cell_type": "markdown",
   "id": "7340104e",
   "metadata": {},
   "source": [
    "### Exercise"
   ]
  },
  {
   "cell_type": "markdown",
   "id": "67e10c02",
   "metadata": {},
   "source": [
    "To flex both our plotting and function writing muscles, let's write a function to do some plotting! Your function should:\n",
    "\n",
    "* take a data frame as produced by the function above as input\n",
    "* allow the user to choose between a strip, violin, or box plot\n",
    "* set one of the above three be the default\n",
    "* have a docstr so users can get help() on it\n",
    "* produce the plot requested by the user (of course!)"
   ]
  },
  {
   "cell_type": "markdown",
   "id": "a279fdca",
   "metadata": {},
   "source": [
    "Write your function here:"
   ]
  },
  {
   "cell_type": "code",
   "execution_count": null,
   "id": "e5a4b6b1",
   "metadata": {},
   "outputs": [],
   "source": [
    "def my_plot_fun(in_data, plot_type = \"violin\") :\n",
    "    '''\n",
    "    Makes a distribution plot of a pandas data frame with columns = \n",
    "    \"RTs\", \"sex\", and \"strain\"\n",
    "    data frame can be of any length\n",
    "    other seaborn distribution plot types can be specified\n",
    "    '''\n",
    "    sns.set_style('darkgrid')\n",
    "    # do I use an if() : elif() : else?\n",
    "    \n",
    "    # or is there an easier way...?\n",
    "    sns.catplot(y = \"RTs\", x=\"strain\", data = in_data, hue = \"sex\", kind=plot_type);"
   ]
  },
  {
   "cell_type": "markdown",
   "id": "325a6c68",
   "metadata": {},
   "source": [
    "Now get help on it:"
   ]
  },
  {
   "cell_type": "code",
   "execution_count": null,
   "id": "4734c4eb",
   "metadata": {},
   "outputs": [],
   "source": [
    "help(sns.set_style)"
   ]
  },
  {
   "cell_type": "markdown",
   "id": "807ee07e",
   "metadata": {},
   "source": [
    "And show that it works!"
   ]
  },
  {
   "cell_type": "code",
   "execution_count": null,
   "id": "33f15c00",
   "metadata": {},
   "outputs": [],
   "source": [
    "my_plot_fun(our_data, plot_type = \"swarm\")"
   ]
  },
  {
   "cell_type": "markdown",
   "id": "97ac3dfc",
   "metadata": {},
   "source": [
    "Now here's an interesting puzzle... How many times does it take to get a big random number on average? What does the distribution look like?\n",
    "\n",
    "How would we answer those questions?\n",
    "\n",
    "Let's use... \n",
    "\n",
    "a ***for loop!***"
   ]
  },
  {
   "cell_type": "markdown",
   "id": "c3938b57",
   "metadata": {},
   "source": [
    "(Here we are going to go ahead of us and use the python library `seaborn`, we will learn more about this library in later tutorials.)"
   ]
  },
  {
   "cell_type": "code",
   "execution_count": 67,
   "id": "bad3d4d4",
   "metadata": {},
   "outputs": [],
   "source": [
    "import seaborn as sns  # for making a histogram/kde"
   ]
  },
  {
   "cell_type": "code",
   "execution_count": 68,
   "id": "41bf9dd3",
   "metadata": {
    "scrolled": true
   },
   "outputs": [],
   "source": [
    "nExperiments = 100  # how many times we'll do our little experiment\n",
    "nSamplesNeeded = np.zeros((nExperiments, 1))\n",
    "x, cutOff, = 0, 2\n",
    "\n",
    "for i in range(nExperiments) :\n",
    "    myCounter = 0\n",
    "    x = 0\n",
    "    while x < cutOff :\n",
    "        x = np.random.randn()\n",
    "        myCounter += 1\n",
    "    nSamplesNeeded[i, 0] = myCounter    \n",
    "    "
   ]
  },
  {
   "cell_type": "markdown",
   "id": "dda97622",
   "metadata": {},
   "source": [
    "That looks like a lot of code, but go through it carefully. All we have done is nest our `while` loop inside a `for` loop, so that we can do our \"How many times?\" experiment as often as we wish. On each pass through the `for` loop, we store the answer from a single experiment in the `i`th row of a numpy array!"
   ]
  },
  {
   "cell_type": "markdown",
   "id": "c52a5f35",
   "metadata": {},
   "source": [
    "Let's look at the number of tries it took on each experiment:"
   ]
  },
  {
   "cell_type": "code",
   "execution_count": 69,
   "id": "9dfe675a",
   "metadata": {
    "scrolled": false
   },
   "outputs": [
    {
     "ename": "NameError",
     "evalue": "name 'plt' is not defined",
     "output_type": "error",
     "traceback": [
      "\u001b[0;31m---------------------------------------------------------------------------\u001b[0m",
      "\u001b[0;31mNameError\u001b[0m                                 Traceback (most recent call last)",
      "\u001b[0;32m/var/folders/ym/g0t45zsx6kj122mw2d8vf7zm0000gq/T/ipykernel_14513/3222901827.py\u001b[0m in \u001b[0;36m<module>\u001b[0;34m\u001b[0m\n\u001b[0;32m----> 1\u001b[0;31m \u001b[0mplt\u001b[0m\u001b[0;34m.\u001b[0m\u001b[0mplot\u001b[0m\u001b[0;34m(\u001b[0m\u001b[0mnSamplesNeeded\u001b[0m\u001b[0;34m,\u001b[0m \u001b[0;34m'.'\u001b[0m\u001b[0;34m)\u001b[0m\u001b[0;34m\u001b[0m\u001b[0;34m\u001b[0m\u001b[0m\n\u001b[0m",
      "\u001b[0;31mNameError\u001b[0m: name 'plt' is not defined"
     ]
    }
   ],
   "source": [
    "plt.plot(nSamplesNeeded, '.')"
   ]
  },
  {
   "cell_type": "markdown",
   "id": "36e06d8e",
   "metadata": {},
   "source": [
    "Okay, cool! So it looks like we usually get a \"big\" number in under 50 tries, but it occasionally takes a lot longer. Let's look at the distribution of these numbers!"
   ]
  },
  {
   "cell_type": "code",
   "execution_count": null,
   "id": "ed88b8b0",
   "metadata": {},
   "outputs": [],
   "source": [
    "sns.displot(nSamplesNeeded, kind='kde')"
   ]
  },
  {
   "cell_type": "markdown",
   "id": "c69e24cb",
   "metadata": {},
   "source": [
    "Okay, I think that, while pretty, this plot is misleading. Can you see why?\n",
    "\n",
    "Let's do a plain old histogram."
   ]
  },
  {
   "cell_type": "code",
   "execution_count": null,
   "id": "2981c8e6",
   "metadata": {},
   "outputs": [],
   "source": [
    "sns.displot(nSamplesNeeded, kind='hist')"
   ]
  },
  {
   "cell_type": "markdown",
   "id": "8166fd30",
   "metadata": {},
   "source": [
    "Now this make more sense, because we can't have a negative number of tries!"
   ]
  },
  {
   "cell_type": "markdown",
   "id": "a5f46908",
   "metadata": {},
   "source": [
    "So it looks like, on average, it took us about – what? – 40 tries to get a number in the upper 2 1/2% tail of the distribution. Let's do a quick calculation."
   ]
  },
  {
   "cell_type": "code",
   "execution_count": null,
   "id": "bf32d1de",
   "metadata": {},
   "outputs": [],
   "source": [
    "100 / 2.5"
   ]
  },
  {
   "cell_type": "code",
   "execution_count": null,
   "id": "2fde2a45",
   "metadata": {},
   "outputs": [],
   "source": []
  }
 ],
 "metadata": {
  "kernelspec": {
   "display_name": "Python 3 (ipykernel)",
   "language": "python",
   "name": "python3"
  },
  "language_info": {
   "codemirror_mode": {
    "name": "ipython",
    "version": 3
   },
   "file_extension": ".py",
   "mimetype": "text/x-python",
   "name": "python",
   "nbconvert_exporter": "python",
   "pygments_lexer": "ipython3",
   "version": "3.9.7"
  }
 },
 "nbformat": 4,
 "nbformat_minor": 5
}
